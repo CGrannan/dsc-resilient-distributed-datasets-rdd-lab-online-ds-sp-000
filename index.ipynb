{
  "nbformat": 4,
  "nbformat_minor": 0,
  "metadata": {
    "kernelspec": {
      "display_name": "Python 3",
      "language": "python",
      "name": "python3"
    },
    "language_info": {
      "codemirror_mode": {
        "name": "ipython",
        "version": 3
      },
      "file_extension": ".py",
      "mimetype": "text/x-python",
      "name": "python",
      "nbconvert_exporter": "python",
      "pygments_lexer": "ipython3",
      "version": "3.7.3"
    },
    "colab": {
      "name": "index.ipynb",
      "provenance": []
    }
  },
  "cells": [
    {
      "cell_type": "code",
      "metadata": {
        "id": "JYrqYTGIX3x8",
        "colab_type": "code",
        "colab": {
          "base_uri": "https://localhost:8080/",
          "height": 323
        },
        "outputId": "c8e38471-6c7a-44df-9647-26af86e81f94"
      },
      "source": [
        "!apt update\n",
        "!apt-get install openjdk-8-jdk-headless -qq > /dev/null\n",
        "!wget -q https://downloads.apache.org/spark/spark-2.4.6/spark-2.4.6-bin-hadoop2.7.tgz\n",
        "!tar xf spark-2.4.6-bin-hadoop2.7.tgz\n",
        "!pip install -q findspark\n",
        "\n",
        "!pip install pyspark\n",
        "\n",
        "import os\n",
        "os.environ[\"JAVA_HOME\"] = \"/usr/lib/jvm/java-8-openjdk-amd64\"\n",
        "os.environ[\"SPARK_HOME\"] = \"/content/spark-2.4.6-bin-hadoop2.7\""
      ],
      "execution_count": 1,
      "outputs": [
        {
          "output_type": "stream",
          "text": [
            "Ign:1 https://developer.download.nvidia.com/compute/cuda/repos/ubuntu1804/x86_64  InRelease\n",
            "Ign:2 https://developer.download.nvidia.com/compute/machine-learning/repos/ubuntu1804/x86_64  InRelease\n",
            "Hit:3 https://developer.download.nvidia.com/compute/cuda/repos/ubuntu1804/x86_64  Release\n",
            "Hit:4 https://developer.download.nvidia.com/compute/machine-learning/repos/ubuntu1804/x86_64  Release\n",
            "Hit:5 http://archive.ubuntu.com/ubuntu bionic InRelease\n",
            "Hit:6 http://ppa.launchpad.net/graphics-drivers/ppa/ubuntu bionic InRelease\n",
            "Hit:7 http://security.ubuntu.com/ubuntu bionic-security InRelease\n",
            "Get:9 http://archive.ubuntu.com/ubuntu bionic-updates InRelease [88.7 kB]\n",
            "Hit:11 http://ppa.launchpad.net/marutter/c2d4u3.5/ubuntu bionic InRelease\n",
            "Hit:12 https://cloud.r-project.org/bin/linux/ubuntu bionic-cran35/ InRelease\n",
            "Get:13 http://archive.ubuntu.com/ubuntu bionic-backports InRelease [74.6 kB]\n",
            "Fetched 163 kB in 2s (67.4 kB/s)\n",
            "Reading package lists... Done\n",
            "Building dependency tree       \n",
            "Reading state information... Done\n",
            "54 packages can be upgraded. Run 'apt list --upgradable' to see them.\n",
            "Requirement already satisfied: pyspark in /usr/local/lib/python3.6/dist-packages (3.0.0)\n",
            "Requirement already satisfied: py4j==0.10.9 in /usr/local/lib/python3.6/dist-packages (from pyspark) (0.10.9)\n"
          ],
          "name": "stdout"
        }
      ]
    },
    {
      "cell_type": "markdown",
      "metadata": {
        "id": "crnHEh78XvOv",
        "colab_type": "text"
      },
      "source": [
        "## Resilient Distributed Datasets (RDDs) - Lab\n",
        "\n",
        "Resilient Distributed Datasets (RDD) are fundamental data structures of Spark. An RDD is essentially the Spark representation of a set of data, spread across multiple machines, with APIs to let you act on it. An RDD can come from any data source, e.g. text files, a database, a JSON file, etc.\n",
        "\n",
        "\n",
        "## Objectives\n",
        "\n",
        "You will be able to:\n",
        "\n",
        "- Apply the map(func) transformation to a given function on all elements of an RDD in different partitions \n",
        "- Apply a map transformation for all elements of an RDD \n",
        "- Compare the difference between a transformation and an action within RDDs \n",
        "- Use collect(), count(), and take() actions to trigger spark transformations  \n",
        "- Use filter to select data that meets certain specifications within an RDD \n",
        "- Set number of partitions for parallelizing RDDs \n",
        "- Create RDDs from Python collections \n"
      ]
    },
    {
      "cell_type": "markdown",
      "metadata": {
        "id": "ERGs5t4jXvOw",
        "colab_type": "text"
      },
      "source": [
        "## What are RDDs? \n",
        "\n",
        "To get a better understanding of RDDs, let's break down each one of the components of the acronym RDD:\n",
        "\n",
        "Resilient: RDDs are considered \"resilient\" because they have built-in fault tolerance. This means that even if one of the nodes goes offline, RDDs will be able to restore the data. This is already a huge advantage compared to standard storage. If a standard computer dies while performing an operation, all of its memory will be lost in the process. With RDDs, multiple nodes can go offline, and the action will still be held in working memory.\n",
        "\n",
        "Distributed: The data is contained on multiple nodes of a cluster-computing operation. It is efficiently partitioned to allow for parallelism.\n",
        "\n",
        "Dataset: The dataset has been * partitioned * across the multiple nodes. \n",
        "\n",
        "RDDs are the building block upon which more high-level Spark operations are based upon. Chances are, if you are performing an action using Spark, the operation involves RDDs. \n",
        "\n",
        "\n",
        "\n",
        "Key Characteristics of RDDs:\n",
        "\n",
        "- Immutable: Once an RDD is created, it cannot be modified. \n",
        "- Lazily Evaluated: RDDs will not be evaluated until an action is triggered. Essentially, when RDDs are created, they are programmed to perform some action, but that function will not get activated until it is explicitly called. The reason for lazy evaluation is that allows users to organize the actions of their Spark program into smaller actions. It also saves unnecessary computation and memory load.\n",
        "- In-Memory: The operations in Spark are performed in-memory rather than in the database. This is what allows Spark to perform fast operations with very large quantities of data.\n",
        "\n",
        "\n"
      ]
    },
    {
      "cell_type": "markdown",
      "metadata": {
        "id": "DqthrTEaXvOy",
        "colab_type": "text"
      },
      "source": [
        "### RDD Transformations vs Actions\n",
        "\n",
        "In Spark, we first create a __base RDD__ and then apply one or more transformations to that base RDD following our processing needs. Being immutable means, **once an RDD is created, it cannot be changed**. As a result, **each transformation of an RDD creates a new RDD**. Finally, we can apply one or more **actions** to the RDDs. Spark uses lazy evaluation, so transformations are not actually executed until an action occurs.\n",
        "\n",
        "\n",
        "<img src=\"https://github.com/CGrannan/dsc-resilient-distributed-datasets-rdd-lab-online-ds-sp-000/blob/master/images/rdd_diagram.png?raw=1\" width=500>"
      ]
    },
    {
      "cell_type": "markdown",
      "metadata": {
        "id": "xivhh3whXvO1",
        "colab_type": "text"
      },
      "source": [
        "### Transformations\n",
        "\n",
        "Transformations create a new dataset from an existing one by passing each dataset element through a function and returning a new RDD representing the results. In short, creating an RDD from an existing RDD is ‘transformation’.\n",
        "All transformations in Spark are lazy. They do not compute their results right away. Instead, they just remember the transformations applied to some base dataset (e.g. a file). The transformations are only computed when an action requires a result that needs to be returned to the driver program.\n",
        "A transformation is an RDD that returns another RDD, like map, flatMap, filter, reduceByKey, join, cogroup, etc.\n",
        "\n",
        "### Actions\n",
        "Actions return final results of RDD computations. Actions trigger execution using lineage graph to load the data into original RDD and carry out all intermediate transformations and return the final results to the driver program or writes it out to the file system. An action returns a value (to a Spark driver - the user program).\n",
        "\n",
        "Here are some key transformations and actions that we will explore.\n",
        "\n",
        "\n",
        "| Transformations   | Actions       |\n",
        "|-------------------|---------------|\n",
        "| map(func)         | reduce(func)  |\n",
        "| filter(func)      | collect()     |\n",
        "| groupByKey()      | count()       |\n",
        "| reduceByKey(func) | first()       |\n",
        "| mapValues(func)   | take()        |\n",
        "| sample()          | countByKey()  |\n",
        "| distinct()        | foreach(func) |\n",
        "| sortByKey()       |               |\n"
      ]
    },
    {
      "cell_type": "markdown",
      "metadata": {
        "id": "_Evp3718XvO2",
        "colab_type": "text"
      },
      "source": [
        "Let's see how transformations and actions work through a simple example. In this example, we will perform several actions and transformations on RDDs in order to obtain a better understanding of Spark processing. \n",
        "\n",
        "### Create a Python collection \n",
        "\n",
        "We need some data to start experimenting with RDDs. Let's create some sample data and see how RDDs handle it. To practice working with RDDs, we're going to use a simple Python list.\n",
        "\n",
        "- Create a Python list `data` of integers between 1 and 1000 using the `range()` function. \n",
        "- Sanity check: confirm the length of the list (it should be 1000)"
      ]
    },
    {
      "cell_type": "code",
      "metadata": {
        "id": "8YjM3wnBXvO3",
        "colab_type": "code",
        "colab": {
          "base_uri": "https://localhost:8080/",
          "height": 34
        },
        "outputId": "0ff042d1-c8d7-4a03-e800-d0e8f6d33321"
      },
      "source": [
        "data = list(range(1, 1001))\n",
        "len(data)\n",
        "\n",
        "# 1000"
      ],
      "execution_count": 2,
      "outputs": [
        {
          "output_type": "execute_result",
          "data": {
            "text/plain": [
              "1000"
            ]
          },
          "metadata": {
            "tags": []
          },
          "execution_count": 2
        }
      ]
    },
    {
      "cell_type": "markdown",
      "metadata": {
        "id": "54QTN9urXvO7",
        "colab_type": "text"
      },
      "source": [
        "### Initialize an RDD\n",
        "\n",
        "When using Spark to make computations, datasets are treated as lists of entries. Those lists are split into different partitions across different cores or different computers. Each list of data held in memory is a partition of the RDD. The reason why Spark is able to make computations far faster than other big data processing languages is that it allows all data to be stored __in-memory__, which allows for easy access to the data and, in turn, high-speed processing. Here is an example of how the alphabet might be split into different RDDs and held across a distributed collection of nodes:\n",
        "\n",
        "<img src =\"./images/partitions_1.png\" width =\"500\">  \n",
        "To initialize an RDD, first import `pyspark` and then create a SparkContext assigned to the variable `sc`. Use `'local[*]'` as the master."
      ]
    },
    {
      "cell_type": "code",
      "metadata": {
        "id": "3bGwkO7YXvO9",
        "colab_type": "code",
        "colab": {}
      },
      "source": [
        "import findspark\n",
        "findspark.init()\n",
        "\n",
        "import pyspark\n",
        "sc = pyspark.SparkContext('local[*]')"
      ],
      "execution_count": 3,
      "outputs": []
    },
    {
      "cell_type": "markdown",
      "metadata": {
        "id": "GgXUbgOTXvPC",
        "colab_type": "text"
      },
      "source": [
        "Once you've created the SparkContext, you can use the `.parallelize()` method to create an RDD that will distribute the list of numbers across multiple cores. Here, create one called `rdd` with 10 partitions using `data` as the collection you are parallelizing."
      ]
    },
    {
      "cell_type": "code",
      "metadata": {
        "id": "9p0AMe1ZXvPC",
        "colab_type": "code",
        "colab": {
          "base_uri": "https://localhost:8080/",
          "height": 34
        },
        "outputId": "67fa6afe-66a0-4115-89f6-a265823fe17b"
      },
      "source": [
        "rdd = sc.parallelize(data, 10)\n",
        "print(type(rdd))\n",
        "# <class 'pyspark.rdd.RDD'>"
      ],
      "execution_count": 4,
      "outputs": [
        {
          "output_type": "stream",
          "text": [
            "<class 'pyspark.rdd.RDD'>\n"
          ],
          "name": "stdout"
        }
      ]
    },
    {
      "cell_type": "markdown",
      "metadata": {
        "id": "Q_bfX62vXvPJ",
        "colab_type": "text"
      },
      "source": [
        "Determine how many partitions are being used with this RDD with the `.getNumPartitions()` method."
      ]
    },
    {
      "cell_type": "code",
      "metadata": {
        "id": "bUFzChVUXvPK",
        "colab_type": "code",
        "colab": {
          "base_uri": "https://localhost:8080/",
          "height": 34
        },
        "outputId": "493a4bda-d97f-4723-c097-5e1dae6165cf"
      },
      "source": [
        "rdd.getNumPartitions()\n",
        "# 10"
      ],
      "execution_count": 5,
      "outputs": [
        {
          "output_type": "execute_result",
          "data": {
            "text/plain": [
              "10"
            ]
          },
          "metadata": {
            "tags": []
          },
          "execution_count": 5
        }
      ]
    },
    {
      "cell_type": "markdown",
      "metadata": {
        "id": "-oxI0ezCXvPT",
        "colab_type": "text"
      },
      "source": [
        "### Basic descriptive RDD actions\n",
        "\n",
        "Let's perform some basic operations on our RDD. In the cell below, use the methods:\n",
        "* `count`: returns the total count of items in the RDD \n",
        "* `first`: returns the first item in the RDD\n",
        "* `take`: returns the first `n` items in the RDD\n",
        "* `top`: returns the top `n` items\n",
        "* `collect`: returns everything from your RDD\n",
        "\n",
        "\n",
        "It's important to note that in a big data context, calling the collect method will often take a very long time to execute and should be handled with care!"
      ]
    },
    {
      "cell_type": "code",
      "metadata": {
        "scrolled": true,
        "id": "fUjGSSCCXvPU",
        "colab_type": "code",
        "colab": {
          "base_uri": "https://localhost:8080/",
          "height": 34
        },
        "outputId": "31ae2dee-dceb-468d-ab9c-f87ece8e9f37"
      },
      "source": [
        "# count\n",
        "rdd.count()"
      ],
      "execution_count": 6,
      "outputs": [
        {
          "output_type": "execute_result",
          "data": {
            "text/plain": [
              "1000"
            ]
          },
          "metadata": {
            "tags": []
          },
          "execution_count": 6
        }
      ]
    },
    {
      "cell_type": "code",
      "metadata": {
        "id": "2hTQ3oPvXvPY",
        "colab_type": "code",
        "colab": {
          "base_uri": "https://localhost:8080/",
          "height": 34
        },
        "outputId": "f0543288-ca16-42fc-8004-cb36bf4c8877"
      },
      "source": [
        "# first\n",
        "rdd.first()"
      ],
      "execution_count": 7,
      "outputs": [
        {
          "output_type": "execute_result",
          "data": {
            "text/plain": [
              "1"
            ]
          },
          "metadata": {
            "tags": []
          },
          "execution_count": 7
        }
      ]
    },
    {
      "cell_type": "code",
      "metadata": {
        "id": "CZTR5EpAXvPr",
        "colab_type": "code",
        "colab": {
          "base_uri": "https://localhost:8080/",
          "height": 34
        },
        "outputId": "0110d7c7-575e-4864-e447-e22046fb8ae7"
      },
      "source": [
        "# take\n",
        "rdd.take(5)"
      ],
      "execution_count": 8,
      "outputs": [
        {
          "output_type": "execute_result",
          "data": {
            "text/plain": [
              "[1, 2, 3, 4, 5]"
            ]
          },
          "metadata": {
            "tags": []
          },
          "execution_count": 8
        }
      ]
    },
    {
      "cell_type": "code",
      "metadata": {
        "id": "dn76eINfXvP7",
        "colab_type": "code",
        "colab": {
          "base_uri": "https://localhost:8080/",
          "height": 34
        },
        "outputId": "c644eafe-4966-4dc6-c093-8e459ac762c3"
      },
      "source": [
        "# top\n",
        "rdd.top(5)"
      ],
      "execution_count": 9,
      "outputs": [
        {
          "output_type": "execute_result",
          "data": {
            "text/plain": [
              "[1000, 999, 998, 997, 996]"
            ]
          },
          "metadata": {
            "tags": []
          },
          "execution_count": 9
        }
      ]
    },
    {
      "cell_type": "code",
      "metadata": {
        "scrolled": true,
        "id": "CE7-tYLOXvQK",
        "colab_type": "code",
        "colab": {
          "base_uri": "https://localhost:8080/",
          "height": 1000
        },
        "outputId": "58d1c431-462d-4814-d788-3f9997b8469d"
      },
      "source": [
        "# collect\n",
        "rdd.collect()"
      ],
      "execution_count": 10,
      "outputs": [
        {
          "output_type": "execute_result",
          "data": {
            "text/plain": [
              "[1,\n",
              " 2,\n",
              " 3,\n",
              " 4,\n",
              " 5,\n",
              " 6,\n",
              " 7,\n",
              " 8,\n",
              " 9,\n",
              " 10,\n",
              " 11,\n",
              " 12,\n",
              " 13,\n",
              " 14,\n",
              " 15,\n",
              " 16,\n",
              " 17,\n",
              " 18,\n",
              " 19,\n",
              " 20,\n",
              " 21,\n",
              " 22,\n",
              " 23,\n",
              " 24,\n",
              " 25,\n",
              " 26,\n",
              " 27,\n",
              " 28,\n",
              " 29,\n",
              " 30,\n",
              " 31,\n",
              " 32,\n",
              " 33,\n",
              " 34,\n",
              " 35,\n",
              " 36,\n",
              " 37,\n",
              " 38,\n",
              " 39,\n",
              " 40,\n",
              " 41,\n",
              " 42,\n",
              " 43,\n",
              " 44,\n",
              " 45,\n",
              " 46,\n",
              " 47,\n",
              " 48,\n",
              " 49,\n",
              " 50,\n",
              " 51,\n",
              " 52,\n",
              " 53,\n",
              " 54,\n",
              " 55,\n",
              " 56,\n",
              " 57,\n",
              " 58,\n",
              " 59,\n",
              " 60,\n",
              " 61,\n",
              " 62,\n",
              " 63,\n",
              " 64,\n",
              " 65,\n",
              " 66,\n",
              " 67,\n",
              " 68,\n",
              " 69,\n",
              " 70,\n",
              " 71,\n",
              " 72,\n",
              " 73,\n",
              " 74,\n",
              " 75,\n",
              " 76,\n",
              " 77,\n",
              " 78,\n",
              " 79,\n",
              " 80,\n",
              " 81,\n",
              " 82,\n",
              " 83,\n",
              " 84,\n",
              " 85,\n",
              " 86,\n",
              " 87,\n",
              " 88,\n",
              " 89,\n",
              " 90,\n",
              " 91,\n",
              " 92,\n",
              " 93,\n",
              " 94,\n",
              " 95,\n",
              " 96,\n",
              " 97,\n",
              " 98,\n",
              " 99,\n",
              " 100,\n",
              " 101,\n",
              " 102,\n",
              " 103,\n",
              " 104,\n",
              " 105,\n",
              " 106,\n",
              " 107,\n",
              " 108,\n",
              " 109,\n",
              " 110,\n",
              " 111,\n",
              " 112,\n",
              " 113,\n",
              " 114,\n",
              " 115,\n",
              " 116,\n",
              " 117,\n",
              " 118,\n",
              " 119,\n",
              " 120,\n",
              " 121,\n",
              " 122,\n",
              " 123,\n",
              " 124,\n",
              " 125,\n",
              " 126,\n",
              " 127,\n",
              " 128,\n",
              " 129,\n",
              " 130,\n",
              " 131,\n",
              " 132,\n",
              " 133,\n",
              " 134,\n",
              " 135,\n",
              " 136,\n",
              " 137,\n",
              " 138,\n",
              " 139,\n",
              " 140,\n",
              " 141,\n",
              " 142,\n",
              " 143,\n",
              " 144,\n",
              " 145,\n",
              " 146,\n",
              " 147,\n",
              " 148,\n",
              " 149,\n",
              " 150,\n",
              " 151,\n",
              " 152,\n",
              " 153,\n",
              " 154,\n",
              " 155,\n",
              " 156,\n",
              " 157,\n",
              " 158,\n",
              " 159,\n",
              " 160,\n",
              " 161,\n",
              " 162,\n",
              " 163,\n",
              " 164,\n",
              " 165,\n",
              " 166,\n",
              " 167,\n",
              " 168,\n",
              " 169,\n",
              " 170,\n",
              " 171,\n",
              " 172,\n",
              " 173,\n",
              " 174,\n",
              " 175,\n",
              " 176,\n",
              " 177,\n",
              " 178,\n",
              " 179,\n",
              " 180,\n",
              " 181,\n",
              " 182,\n",
              " 183,\n",
              " 184,\n",
              " 185,\n",
              " 186,\n",
              " 187,\n",
              " 188,\n",
              " 189,\n",
              " 190,\n",
              " 191,\n",
              " 192,\n",
              " 193,\n",
              " 194,\n",
              " 195,\n",
              " 196,\n",
              " 197,\n",
              " 198,\n",
              " 199,\n",
              " 200,\n",
              " 201,\n",
              " 202,\n",
              " 203,\n",
              " 204,\n",
              " 205,\n",
              " 206,\n",
              " 207,\n",
              " 208,\n",
              " 209,\n",
              " 210,\n",
              " 211,\n",
              " 212,\n",
              " 213,\n",
              " 214,\n",
              " 215,\n",
              " 216,\n",
              " 217,\n",
              " 218,\n",
              " 219,\n",
              " 220,\n",
              " 221,\n",
              " 222,\n",
              " 223,\n",
              " 224,\n",
              " 225,\n",
              " 226,\n",
              " 227,\n",
              " 228,\n",
              " 229,\n",
              " 230,\n",
              " 231,\n",
              " 232,\n",
              " 233,\n",
              " 234,\n",
              " 235,\n",
              " 236,\n",
              " 237,\n",
              " 238,\n",
              " 239,\n",
              " 240,\n",
              " 241,\n",
              " 242,\n",
              " 243,\n",
              " 244,\n",
              " 245,\n",
              " 246,\n",
              " 247,\n",
              " 248,\n",
              " 249,\n",
              " 250,\n",
              " 251,\n",
              " 252,\n",
              " 253,\n",
              " 254,\n",
              " 255,\n",
              " 256,\n",
              " 257,\n",
              " 258,\n",
              " 259,\n",
              " 260,\n",
              " 261,\n",
              " 262,\n",
              " 263,\n",
              " 264,\n",
              " 265,\n",
              " 266,\n",
              " 267,\n",
              " 268,\n",
              " 269,\n",
              " 270,\n",
              " 271,\n",
              " 272,\n",
              " 273,\n",
              " 274,\n",
              " 275,\n",
              " 276,\n",
              " 277,\n",
              " 278,\n",
              " 279,\n",
              " 280,\n",
              " 281,\n",
              " 282,\n",
              " 283,\n",
              " 284,\n",
              " 285,\n",
              " 286,\n",
              " 287,\n",
              " 288,\n",
              " 289,\n",
              " 290,\n",
              " 291,\n",
              " 292,\n",
              " 293,\n",
              " 294,\n",
              " 295,\n",
              " 296,\n",
              " 297,\n",
              " 298,\n",
              " 299,\n",
              " 300,\n",
              " 301,\n",
              " 302,\n",
              " 303,\n",
              " 304,\n",
              " 305,\n",
              " 306,\n",
              " 307,\n",
              " 308,\n",
              " 309,\n",
              " 310,\n",
              " 311,\n",
              " 312,\n",
              " 313,\n",
              " 314,\n",
              " 315,\n",
              " 316,\n",
              " 317,\n",
              " 318,\n",
              " 319,\n",
              " 320,\n",
              " 321,\n",
              " 322,\n",
              " 323,\n",
              " 324,\n",
              " 325,\n",
              " 326,\n",
              " 327,\n",
              " 328,\n",
              " 329,\n",
              " 330,\n",
              " 331,\n",
              " 332,\n",
              " 333,\n",
              " 334,\n",
              " 335,\n",
              " 336,\n",
              " 337,\n",
              " 338,\n",
              " 339,\n",
              " 340,\n",
              " 341,\n",
              " 342,\n",
              " 343,\n",
              " 344,\n",
              " 345,\n",
              " 346,\n",
              " 347,\n",
              " 348,\n",
              " 349,\n",
              " 350,\n",
              " 351,\n",
              " 352,\n",
              " 353,\n",
              " 354,\n",
              " 355,\n",
              " 356,\n",
              " 357,\n",
              " 358,\n",
              " 359,\n",
              " 360,\n",
              " 361,\n",
              " 362,\n",
              " 363,\n",
              " 364,\n",
              " 365,\n",
              " 366,\n",
              " 367,\n",
              " 368,\n",
              " 369,\n",
              " 370,\n",
              " 371,\n",
              " 372,\n",
              " 373,\n",
              " 374,\n",
              " 375,\n",
              " 376,\n",
              " 377,\n",
              " 378,\n",
              " 379,\n",
              " 380,\n",
              " 381,\n",
              " 382,\n",
              " 383,\n",
              " 384,\n",
              " 385,\n",
              " 386,\n",
              " 387,\n",
              " 388,\n",
              " 389,\n",
              " 390,\n",
              " 391,\n",
              " 392,\n",
              " 393,\n",
              " 394,\n",
              " 395,\n",
              " 396,\n",
              " 397,\n",
              " 398,\n",
              " 399,\n",
              " 400,\n",
              " 401,\n",
              " 402,\n",
              " 403,\n",
              " 404,\n",
              " 405,\n",
              " 406,\n",
              " 407,\n",
              " 408,\n",
              " 409,\n",
              " 410,\n",
              " 411,\n",
              " 412,\n",
              " 413,\n",
              " 414,\n",
              " 415,\n",
              " 416,\n",
              " 417,\n",
              " 418,\n",
              " 419,\n",
              " 420,\n",
              " 421,\n",
              " 422,\n",
              " 423,\n",
              " 424,\n",
              " 425,\n",
              " 426,\n",
              " 427,\n",
              " 428,\n",
              " 429,\n",
              " 430,\n",
              " 431,\n",
              " 432,\n",
              " 433,\n",
              " 434,\n",
              " 435,\n",
              " 436,\n",
              " 437,\n",
              " 438,\n",
              " 439,\n",
              " 440,\n",
              " 441,\n",
              " 442,\n",
              " 443,\n",
              " 444,\n",
              " 445,\n",
              " 446,\n",
              " 447,\n",
              " 448,\n",
              " 449,\n",
              " 450,\n",
              " 451,\n",
              " 452,\n",
              " 453,\n",
              " 454,\n",
              " 455,\n",
              " 456,\n",
              " 457,\n",
              " 458,\n",
              " 459,\n",
              " 460,\n",
              " 461,\n",
              " 462,\n",
              " 463,\n",
              " 464,\n",
              " 465,\n",
              " 466,\n",
              " 467,\n",
              " 468,\n",
              " 469,\n",
              " 470,\n",
              " 471,\n",
              " 472,\n",
              " 473,\n",
              " 474,\n",
              " 475,\n",
              " 476,\n",
              " 477,\n",
              " 478,\n",
              " 479,\n",
              " 480,\n",
              " 481,\n",
              " 482,\n",
              " 483,\n",
              " 484,\n",
              " 485,\n",
              " 486,\n",
              " 487,\n",
              " 488,\n",
              " 489,\n",
              " 490,\n",
              " 491,\n",
              " 492,\n",
              " 493,\n",
              " 494,\n",
              " 495,\n",
              " 496,\n",
              " 497,\n",
              " 498,\n",
              " 499,\n",
              " 500,\n",
              " 501,\n",
              " 502,\n",
              " 503,\n",
              " 504,\n",
              " 505,\n",
              " 506,\n",
              " 507,\n",
              " 508,\n",
              " 509,\n",
              " 510,\n",
              " 511,\n",
              " 512,\n",
              " 513,\n",
              " 514,\n",
              " 515,\n",
              " 516,\n",
              " 517,\n",
              " 518,\n",
              " 519,\n",
              " 520,\n",
              " 521,\n",
              " 522,\n",
              " 523,\n",
              " 524,\n",
              " 525,\n",
              " 526,\n",
              " 527,\n",
              " 528,\n",
              " 529,\n",
              " 530,\n",
              " 531,\n",
              " 532,\n",
              " 533,\n",
              " 534,\n",
              " 535,\n",
              " 536,\n",
              " 537,\n",
              " 538,\n",
              " 539,\n",
              " 540,\n",
              " 541,\n",
              " 542,\n",
              " 543,\n",
              " 544,\n",
              " 545,\n",
              " 546,\n",
              " 547,\n",
              " 548,\n",
              " 549,\n",
              " 550,\n",
              " 551,\n",
              " 552,\n",
              " 553,\n",
              " 554,\n",
              " 555,\n",
              " 556,\n",
              " 557,\n",
              " 558,\n",
              " 559,\n",
              " 560,\n",
              " 561,\n",
              " 562,\n",
              " 563,\n",
              " 564,\n",
              " 565,\n",
              " 566,\n",
              " 567,\n",
              " 568,\n",
              " 569,\n",
              " 570,\n",
              " 571,\n",
              " 572,\n",
              " 573,\n",
              " 574,\n",
              " 575,\n",
              " 576,\n",
              " 577,\n",
              " 578,\n",
              " 579,\n",
              " 580,\n",
              " 581,\n",
              " 582,\n",
              " 583,\n",
              " 584,\n",
              " 585,\n",
              " 586,\n",
              " 587,\n",
              " 588,\n",
              " 589,\n",
              " 590,\n",
              " 591,\n",
              " 592,\n",
              " 593,\n",
              " 594,\n",
              " 595,\n",
              " 596,\n",
              " 597,\n",
              " 598,\n",
              " 599,\n",
              " 600,\n",
              " 601,\n",
              " 602,\n",
              " 603,\n",
              " 604,\n",
              " 605,\n",
              " 606,\n",
              " 607,\n",
              " 608,\n",
              " 609,\n",
              " 610,\n",
              " 611,\n",
              " 612,\n",
              " 613,\n",
              " 614,\n",
              " 615,\n",
              " 616,\n",
              " 617,\n",
              " 618,\n",
              " 619,\n",
              " 620,\n",
              " 621,\n",
              " 622,\n",
              " 623,\n",
              " 624,\n",
              " 625,\n",
              " 626,\n",
              " 627,\n",
              " 628,\n",
              " 629,\n",
              " 630,\n",
              " 631,\n",
              " 632,\n",
              " 633,\n",
              " 634,\n",
              " 635,\n",
              " 636,\n",
              " 637,\n",
              " 638,\n",
              " 639,\n",
              " 640,\n",
              " 641,\n",
              " 642,\n",
              " 643,\n",
              " 644,\n",
              " 645,\n",
              " 646,\n",
              " 647,\n",
              " 648,\n",
              " 649,\n",
              " 650,\n",
              " 651,\n",
              " 652,\n",
              " 653,\n",
              " 654,\n",
              " 655,\n",
              " 656,\n",
              " 657,\n",
              " 658,\n",
              " 659,\n",
              " 660,\n",
              " 661,\n",
              " 662,\n",
              " 663,\n",
              " 664,\n",
              " 665,\n",
              " 666,\n",
              " 667,\n",
              " 668,\n",
              " 669,\n",
              " 670,\n",
              " 671,\n",
              " 672,\n",
              " 673,\n",
              " 674,\n",
              " 675,\n",
              " 676,\n",
              " 677,\n",
              " 678,\n",
              " 679,\n",
              " 680,\n",
              " 681,\n",
              " 682,\n",
              " 683,\n",
              " 684,\n",
              " 685,\n",
              " 686,\n",
              " 687,\n",
              " 688,\n",
              " 689,\n",
              " 690,\n",
              " 691,\n",
              " 692,\n",
              " 693,\n",
              " 694,\n",
              " 695,\n",
              " 696,\n",
              " 697,\n",
              " 698,\n",
              " 699,\n",
              " 700,\n",
              " 701,\n",
              " 702,\n",
              " 703,\n",
              " 704,\n",
              " 705,\n",
              " 706,\n",
              " 707,\n",
              " 708,\n",
              " 709,\n",
              " 710,\n",
              " 711,\n",
              " 712,\n",
              " 713,\n",
              " 714,\n",
              " 715,\n",
              " 716,\n",
              " 717,\n",
              " 718,\n",
              " 719,\n",
              " 720,\n",
              " 721,\n",
              " 722,\n",
              " 723,\n",
              " 724,\n",
              " 725,\n",
              " 726,\n",
              " 727,\n",
              " 728,\n",
              " 729,\n",
              " 730,\n",
              " 731,\n",
              " 732,\n",
              " 733,\n",
              " 734,\n",
              " 735,\n",
              " 736,\n",
              " 737,\n",
              " 738,\n",
              " 739,\n",
              " 740,\n",
              " 741,\n",
              " 742,\n",
              " 743,\n",
              " 744,\n",
              " 745,\n",
              " 746,\n",
              " 747,\n",
              " 748,\n",
              " 749,\n",
              " 750,\n",
              " 751,\n",
              " 752,\n",
              " 753,\n",
              " 754,\n",
              " 755,\n",
              " 756,\n",
              " 757,\n",
              " 758,\n",
              " 759,\n",
              " 760,\n",
              " 761,\n",
              " 762,\n",
              " 763,\n",
              " 764,\n",
              " 765,\n",
              " 766,\n",
              " 767,\n",
              " 768,\n",
              " 769,\n",
              " 770,\n",
              " 771,\n",
              " 772,\n",
              " 773,\n",
              " 774,\n",
              " 775,\n",
              " 776,\n",
              " 777,\n",
              " 778,\n",
              " 779,\n",
              " 780,\n",
              " 781,\n",
              " 782,\n",
              " 783,\n",
              " 784,\n",
              " 785,\n",
              " 786,\n",
              " 787,\n",
              " 788,\n",
              " 789,\n",
              " 790,\n",
              " 791,\n",
              " 792,\n",
              " 793,\n",
              " 794,\n",
              " 795,\n",
              " 796,\n",
              " 797,\n",
              " 798,\n",
              " 799,\n",
              " 800,\n",
              " 801,\n",
              " 802,\n",
              " 803,\n",
              " 804,\n",
              " 805,\n",
              " 806,\n",
              " 807,\n",
              " 808,\n",
              " 809,\n",
              " 810,\n",
              " 811,\n",
              " 812,\n",
              " 813,\n",
              " 814,\n",
              " 815,\n",
              " 816,\n",
              " 817,\n",
              " 818,\n",
              " 819,\n",
              " 820,\n",
              " 821,\n",
              " 822,\n",
              " 823,\n",
              " 824,\n",
              " 825,\n",
              " 826,\n",
              " 827,\n",
              " 828,\n",
              " 829,\n",
              " 830,\n",
              " 831,\n",
              " 832,\n",
              " 833,\n",
              " 834,\n",
              " 835,\n",
              " 836,\n",
              " 837,\n",
              " 838,\n",
              " 839,\n",
              " 840,\n",
              " 841,\n",
              " 842,\n",
              " 843,\n",
              " 844,\n",
              " 845,\n",
              " 846,\n",
              " 847,\n",
              " 848,\n",
              " 849,\n",
              " 850,\n",
              " 851,\n",
              " 852,\n",
              " 853,\n",
              " 854,\n",
              " 855,\n",
              " 856,\n",
              " 857,\n",
              " 858,\n",
              " 859,\n",
              " 860,\n",
              " 861,\n",
              " 862,\n",
              " 863,\n",
              " 864,\n",
              " 865,\n",
              " 866,\n",
              " 867,\n",
              " 868,\n",
              " 869,\n",
              " 870,\n",
              " 871,\n",
              " 872,\n",
              " 873,\n",
              " 874,\n",
              " 875,\n",
              " 876,\n",
              " 877,\n",
              " 878,\n",
              " 879,\n",
              " 880,\n",
              " 881,\n",
              " 882,\n",
              " 883,\n",
              " 884,\n",
              " 885,\n",
              " 886,\n",
              " 887,\n",
              " 888,\n",
              " 889,\n",
              " 890,\n",
              " 891,\n",
              " 892,\n",
              " 893,\n",
              " 894,\n",
              " 895,\n",
              " 896,\n",
              " 897,\n",
              " 898,\n",
              " 899,\n",
              " 900,\n",
              " 901,\n",
              " 902,\n",
              " 903,\n",
              " 904,\n",
              " 905,\n",
              " 906,\n",
              " 907,\n",
              " 908,\n",
              " 909,\n",
              " 910,\n",
              " 911,\n",
              " 912,\n",
              " 913,\n",
              " 914,\n",
              " 915,\n",
              " 916,\n",
              " 917,\n",
              " 918,\n",
              " 919,\n",
              " 920,\n",
              " 921,\n",
              " 922,\n",
              " 923,\n",
              " 924,\n",
              " 925,\n",
              " 926,\n",
              " 927,\n",
              " 928,\n",
              " 929,\n",
              " 930,\n",
              " 931,\n",
              " 932,\n",
              " 933,\n",
              " 934,\n",
              " 935,\n",
              " 936,\n",
              " 937,\n",
              " 938,\n",
              " 939,\n",
              " 940,\n",
              " 941,\n",
              " 942,\n",
              " 943,\n",
              " 944,\n",
              " 945,\n",
              " 946,\n",
              " 947,\n",
              " 948,\n",
              " 949,\n",
              " 950,\n",
              " 951,\n",
              " 952,\n",
              " 953,\n",
              " 954,\n",
              " 955,\n",
              " 956,\n",
              " 957,\n",
              " 958,\n",
              " 959,\n",
              " 960,\n",
              " 961,\n",
              " 962,\n",
              " 963,\n",
              " 964,\n",
              " 965,\n",
              " 966,\n",
              " 967,\n",
              " 968,\n",
              " 969,\n",
              " 970,\n",
              " 971,\n",
              " 972,\n",
              " 973,\n",
              " 974,\n",
              " 975,\n",
              " 976,\n",
              " 977,\n",
              " 978,\n",
              " 979,\n",
              " 980,\n",
              " 981,\n",
              " 982,\n",
              " 983,\n",
              " 984,\n",
              " 985,\n",
              " 986,\n",
              " 987,\n",
              " 988,\n",
              " 989,\n",
              " 990,\n",
              " 991,\n",
              " 992,\n",
              " 993,\n",
              " 994,\n",
              " 995,\n",
              " 996,\n",
              " 997,\n",
              " 998,\n",
              " 999,\n",
              " 1000]"
            ]
          },
          "metadata": {
            "tags": []
          },
          "execution_count": 10
        }
      ]
    },
    {
      "cell_type": "markdown",
      "metadata": {
        "id": "PA5otg-XXvQP",
        "colab_type": "text"
      },
      "source": [
        "## Map functions\n",
        "\n",
        "Now that you've been working a little bit with RDDs, let's make this a little more interesting. Imagine you're running a hot new e-commerce startup called BuyStuff, and you're trying to track of how much it charges customers from each item sold. In the next cell, we're going to create simulated data by multiplying the values 1-1000 with a random number from 0-1."
      ]
    },
    {
      "cell_type": "code",
      "metadata": {
        "id": "i16yeYNDXvQS",
        "colab_type": "code",
        "colab": {
          "base_uri": "https://localhost:8080/",
          "height": 1000
        },
        "outputId": "47274a6b-4113-49dd-e105-17267304b3e5"
      },
      "source": [
        "import random\n",
        "import numpy as np\n",
        "\n",
        "nums = np.array(range(1, 1001))\n",
        "sales_figures = nums * np.random.rand(1000)\n",
        "sales_figures"
      ],
      "execution_count": 11,
      "outputs": [
        {
          "output_type": "execute_result",
          "data": {
            "text/plain": [
              "array([9.05181856e-01, 4.98233135e-01, 2.24579120e+00, 3.23010347e+00,\n",
              "       3.87251530e+00, 5.71798696e+00, 3.72605531e-01, 1.41358810e-01,\n",
              "       2.34031510e+00, 4.14860000e+00, 1.27172552e+00, 9.42114273e-01,\n",
              "       3.35252924e+00, 4.86032763e+00, 9.39288410e+00, 5.27535641e+00,\n",
              "       1.01846013e+01, 3.24253227e+00, 6.01819640e+00, 1.58312762e+01,\n",
              "       1.22630349e+01, 1.69593791e+01, 7.37787777e+00, 1.35777517e+01,\n",
              "       2.78971030e+00, 1.36634510e+01, 1.72330163e+01, 1.09857415e+01,\n",
              "       2.61854723e+00, 6.67607154e+00, 1.32249975e+01, 2.13501083e-01,\n",
              "       6.75383161e+00, 1.92472643e+01, 4.82881340e+00, 1.47465888e+01,\n",
              "       2.29509504e+01, 3.08232364e+01, 2.93548031e+01, 4.95137840e+00,\n",
              "       1.58827537e+01, 1.78330669e+01, 2.34125705e+01, 4.21283650e+01,\n",
              "       3.27391864e+01, 6.39132205e-01, 9.07109440e+00, 1.29144213e+00,\n",
              "       3.94070881e+00, 4.17784041e-01, 6.30961472e+00, 4.25943989e+01,\n",
              "       2.90865248e+00, 2.89606169e-01, 3.47355951e+01, 9.24588839e+00,\n",
              "       1.70053259e+01, 2.72525059e+01, 4.86290854e+01, 5.75569003e+00,\n",
              "       4.14119125e+01, 6.18521931e+00, 3.29977319e+01, 5.89581147e+01,\n",
              "       5.44294900e+01, 1.08137939e+01, 5.31551302e+01, 1.99362795e+01,\n",
              "       4.75677546e+01, 5.58220323e+01, 4.19166521e+01, 2.65122070e+01,\n",
              "       6.63211631e+01, 4.68445870e+00, 5.78168046e+01, 7.50047170e+00,\n",
              "       3.33170486e+01, 1.76585361e+01, 4.11039268e+01, 1.91859521e+01,\n",
              "       4.17234784e+01, 1.07845041e+01, 7.19389612e+00, 2.92995536e+01,\n",
              "       6.29585898e+01, 2.76261644e+01, 3.04779911e+01, 7.46374801e+00,\n",
              "       5.32693012e+01, 4.74064948e+01, 1.36029065e+01, 4.05608074e+00,\n",
              "       5.62751534e+01, 4.09926897e+01, 8.08747068e+01, 8.99206410e+01,\n",
              "       2.02382289e+01, 1.93306462e+00, 7.23429170e+01, 1.86664727e+01,\n",
              "       9.90494574e+01, 3.58983280e+01, 8.16086486e+01, 5.46670435e+01,\n",
              "       1.24973198e+01, 5.21587976e+01, 9.55920208e+01, 1.44250221e+01,\n",
              "       1.02799321e+01, 1.25438563e+00, 9.02900466e+01, 6.16335272e+01,\n",
              "       8.19155408e+01, 6.53643788e-02, 5.54674959e+01, 6.25669446e+01,\n",
              "       1.50616527e+01, 8.34310990e+01, 9.04096312e+01, 1.61953948e+01,\n",
              "       2.63334756e+01, 1.76252365e+01, 1.03593213e+02, 8.14667085e+00,\n",
              "       6.86542063e+01, 1.15698039e+02, 2.47615633e+01, 1.11226461e+02,\n",
              "       6.20119881e+01, 6.78226260e+00, 9.64779802e+01, 3.22999496e+01,\n",
              "       8.37383249e+01, 3.22766298e+01, 6.07428560e+01, 9.10989851e+01,\n",
              "       1.82399504e+01, 1.35876765e+02, 1.03331708e+02, 6.94795918e+01,\n",
              "       1.30418840e+02, 8.50452728e+01, 1.43964708e+01, 4.26939241e+01,\n",
              "       1.19465352e+02, 1.16624738e+02, 9.44341535e+01, 5.11879081e+00,\n",
              "       3.11755545e+01, 6.54540333e+01, 3.32148473e+01, 1.29673089e+02,\n",
              "       2.09699091e+01, 1.46060742e+02, 1.02968970e+02, 1.03967882e+02,\n",
              "       4.79929996e+01, 4.91478491e+01, 5.07828906e+01, 9.44260418e+01,\n",
              "       1.08327903e+01, 7.31505314e+01, 1.83809921e+00, 8.16599970e+01,\n",
              "       6.77565105e+01, 1.48076762e+02, 9.91390941e+01, 1.03221165e+02,\n",
              "       1.14688263e+02, 4.04544214e+00, 1.07725814e+02, 1.44696525e+01,\n",
              "       8.42363826e+00, 1.95100158e+01, 7.45111549e+00, 2.91540436e+01,\n",
              "       1.74737054e+02, 3.90881645e+01, 1.09280454e+02, 9.01069942e+01,\n",
              "       1.29159349e+01, 1.14282085e+02, 1.24583481e+02, 1.52308909e+02,\n",
              "       1.78542664e+02, 1.42263823e+02, 1.15690766e+02, 4.56983052e+01,\n",
              "       1.79686270e+02, 8.41907840e+01, 1.71233259e+02, 1.90190561e+02,\n",
              "       9.03062906e+01, 1.38313866e+02, 1.24300050e+02, 1.06505402e+02,\n",
              "       1.93035602e+02, 1.01193374e+02, 5.40849619e+01, 5.82659672e+01,\n",
              "       5.52570307e+01, 7.52382522e+01, 3.38222156e+01, 1.48421723e+02,\n",
              "       7.15818924e+01, 1.81278179e+02, 1.92274898e+02, 9.16340037e+01,\n",
              "       9.16928752e+01, 4.19335209e+01, 9.30447225e+01, 8.10944734e+01,\n",
              "       6.45950089e+01, 1.04058516e+02, 1.05885238e+02, 1.57743022e+01,\n",
              "       6.46747778e+01, 6.39260319e+01, 1.68886093e+02, 3.52987394e+01,\n",
              "       8.96171537e+01, 2.21721385e+02, 9.83587345e+01, 1.15477111e+02,\n",
              "       9.77626021e+00, 1.17941137e+02, 1.22234455e+02, 2.25719777e+02,\n",
              "       6.60789912e+01, 1.17070663e+02, 7.38109201e+01, 1.83215640e+02,\n",
              "       1.64080155e+02, 4.25032048e+01, 1.83583502e+02, 6.39663796e+01,\n",
              "       6.14196709e+01, 3.18597954e+01, 1.29585677e+02, 2.43591703e+01,\n",
              "       1.26158662e+02, 3.66183307e+01, 3.55872150e+01, 1.47420534e+02,\n",
              "       1.95597800e+02, 3.93743486e+01, 2.29397866e+02, 5.90120032e+01,\n",
              "       1.60441407e+02, 4.28479226e+01, 1.80166426e+02, 1.65991326e+02,\n",
              "       1.11525516e+02, 4.36691782e+01, 2.04343019e+02, 1.52609802e+02,\n",
              "       1.00540103e+02, 2.38884252e+02, 2.32605230e+02, 1.52707673e+02,\n",
              "       9.60048397e+01, 5.50278582e+01, 2.21195261e+02, 1.29313835e+02,\n",
              "       2.01991479e+02, 1.89991593e+02, 2.00128142e+02, 1.27988851e+02,\n",
              "       2.33851045e+02, 2.64662843e+02, 2.22429190e+02, 1.37723549e+02,\n",
              "       2.08356270e+02, 1.57999050e+02, 2.31174396e+02, 1.31330940e+02,\n",
              "       2.38331577e+02, 2.53724853e+02, 2.00514259e+02, 2.67289237e+02,\n",
              "       3.30875380e+01, 6.77434717e+01, 1.06934224e+02, 2.31076848e+02,\n",
              "       2.17527054e+02, 2.37826139e+02, 1.68049171e+02, 8.18520101e+00,\n",
              "       2.84947647e+02, 6.29543012e+01, 2.43200220e+02, 1.30378477e+02,\n",
              "       1.85043873e+02, 2.39373865e+02, 2.13191755e+02, 6.67917970e+01,\n",
              "       1.81654175e+02, 1.97449097e+02, 1.86448091e+02, 1.73605965e+02,\n",
              "       2.16209861e+01, 9.33190979e-01, 1.43136132e+02, 7.44310771e+01,\n",
              "       2.79367232e+02, 1.67612102e+02, 3.06840458e+02, 1.13828731e+02,\n",
              "       8.26931975e+01, 6.40867713e+01, 8.40079791e+01, 2.80577422e+02,\n",
              "       3.03563822e+02, 2.66179977e+02, 1.58809354e+02, 2.16679418e+02,\n",
              "       2.59705994e+02, 2.60441650e+02, 7.47771667e+01, 1.59379487e+02,\n",
              "       1.19698180e+02, 2.61544179e+02, 3.35339052e+01, 2.05361450e+02,\n",
              "       2.40476989e+02, 1.95322334e+02, 3.14802592e+02, 2.36535437e+02,\n",
              "       1.50406931e+02, 2.71198042e+01, 1.21692947e+02, 6.05132333e+01,\n",
              "       1.99239226e+02, 1.99124831e+02, 1.69100779e+02, 3.13294729e+02,\n",
              "       2.66263272e+02, 1.85406708e+02, 2.98706838e+02, 6.10409948e+00,\n",
              "       3.09385021e+02, 2.50801821e+01, 2.37769960e+02, 1.78979120e+02,\n",
              "       2.56118595e+02, 2.58562675e+02, 1.70784409e+02, 3.32088341e+02,\n",
              "       1.03883948e+02, 1.57212068e+02, 3.16244267e+01, 3.34737292e+02,\n",
              "       2.11862234e+02, 2.04144328e+02, 1.44215922e+02, 1.28208126e+02,\n",
              "       1.98245112e+02, 1.80777887e+02, 2.63382672e+02, 2.74277683e+02,\n",
              "       2.34346151e+02, 1.66295348e+02, 3.38617528e+02, 2.82180423e+02,\n",
              "       1.48536935e+02, 3.26243648e+02, 2.40692442e+02, 1.04332692e+02,\n",
              "       4.68463240e+01, 1.29621291e+01, 1.06050305e+01, 1.82898814e+02,\n",
              "       3.36669726e+02, 6.71368862e+00, 2.75776422e+02, 2.97295668e+02,\n",
              "       2.82019835e+02, 3.22838420e+01, 2.09933214e+02, 1.30005283e+00,\n",
              "       3.25412141e+02, 3.55985571e+02, 2.90373696e+02, 2.64914315e+02,\n",
              "       2.42477139e+02, 9.22393344e+01, 3.23781579e+01, 2.78193769e+02,\n",
              "       2.76299993e+02, 6.12071377e+01, 2.33535746e+02, 3.79194774e+01,\n",
              "       1.64791574e+02, 1.62945186e+02, 5.38238024e+01, 3.85367974e+02,\n",
              "       2.59917541e+02, 5.88104615e+01, 2.82624524e+02, 3.10710010e+02,\n",
              "       1.00369333e+01, 8.90201444e+01, 5.04956574e+01, 4.01366379e+02,\n",
              "       6.64163198e+01, 3.38320844e+02, 1.51763211e+01, 2.78304237e+01,\n",
              "       2.21254386e+02, 2.00001808e+02, 1.03837889e+02, 2.42811252e+02,\n",
              "       2.72005631e+02, 2.65173399e+02, 3.08812477e+02, 5.40025397e+01,\n",
              "       8.50405805e+01, 3.48469965e+02, 4.17518010e+02, 1.46773300e+02,\n",
              "       2.48344091e+02, 1.38748367e+02, 1.23156220e+02, 1.77654743e+02,\n",
              "       2.05504420e+02, 1.00906959e+02, 5.59073406e+01, 2.79065188e+01,\n",
              "       3.92791544e+02, 1.80302834e+02, 2.03567784e+01, 1.32947490e+02,\n",
              "       4.29266057e+02, 1.19245116e+02, 6.09480346e+01, 1.43171188e+02,\n",
              "       2.83692468e+02, 3.69283141e+02, 3.27352287e+02, 7.80282333e+01,\n",
              "       1.87263695e+02, 3.64609481e+02, 3.81817345e+02, 4.41765305e+02,\n",
              "       4.39804992e+02, 3.57751317e+02, 4.06710215e+02, 1.98174914e+02,\n",
              "       1.82723439e+02, 3.58295209e+02, 3.22510389e+02, 2.48066274e+02,\n",
              "       7.94149595e+01, 3.29067528e+02, 3.10674756e+02, 3.12877501e+02,\n",
              "       3.69155309e+02, 1.09763000e+02, 6.53700090e+01, 7.49831658e+01,\n",
              "       9.12812792e+01, 3.17576410e+02, 2.51461628e+01, 3.82756778e+02,\n",
              "       1.09984882e+02, 1.96810335e+02, 4.12063187e+02, 3.13491257e+02,\n",
              "       1.30844144e+02, 6.14288087e+01, 1.61590997e+02, 1.92972578e+02,\n",
              "       4.57089783e+02, 2.99816219e+02, 3.62821283e+02, 9.16037839e+01,\n",
              "       3.55463575e+02, 7.71096343e+01, 3.11166268e+02, 2.37750521e+02,\n",
              "       1.78318285e+02, 4.62356266e+02, 1.89894287e+02, 3.48093802e+02,\n",
              "       1.93248126e+02, 4.82675274e+02, 1.98126124e+02, 4.93251184e+01,\n",
              "       4.30613191e+02, 4.56519638e+02, 4.32417166e+02, 3.19063832e+02,\n",
              "       4.34094387e+02, 3.13080087e+02, 3.24483916e+02, 1.88581591e+02,\n",
              "       4.30543914e+02, 2.40266527e+02, 1.00836433e+02, 1.73956010e+02,\n",
              "       1.34711404e+02, 4.32068519e+02, 3.61207196e+02, 5.74387513e+01,\n",
              "       2.27539615e+01, 1.77192788e+02, 3.17111791e+02, 1.42151971e+02,\n",
              "       2.58303254e+02, 1.47375979e+02, 1.17573079e+02, 1.80533010e+02,\n",
              "       3.11160900e+02, 2.71467080e+02, 5.41985954e+01, 3.72684632e+02,\n",
              "       2.28264046e+02, 9.68046454e+01, 2.63443985e+02, 2.58608344e+02,\n",
              "       1.84096774e+02, 3.38316261e+02, 3.92852350e+02, 2.45663058e+02,\n",
              "       2.43297392e+02, 9.83373637e+01, 2.02014399e+02, 1.55338285e+02,\n",
              "       2.44424755e+02, 3.85091105e+02, 5.12775729e+02, 3.79197375e+02,\n",
              "       3.13770998e+02, 5.03073234e+02, 6.86269392e+01, 3.00679884e+02,\n",
              "       3.98232575e+02, 3.92754693e+02, 3.75460394e+02, 3.42804707e-01,\n",
              "       2.57771396e+02, 4.63559835e+02, 4.45879445e+02, 5.31836089e+02,\n",
              "       1.31578892e+02, 3.41859359e+00, 3.33741678e+02, 5.38133362e+01,\n",
              "       5.15230363e+02, 5.02572445e+02, 1.54405055e+02, 4.93744676e+02,\n",
              "       3.47675569e+02, 2.20136873e+02, 5.44697512e+02, 5.26662390e+02,\n",
              "       2.35450365e+01, 8.49355190e+01, 1.59766541e+02, 5.40001181e+02,\n",
              "       9.82615451e+01, 5.03073480e+02, 5.41228622e+02, 3.76365565e+02,\n",
              "       3.73272037e+02, 1.61427368e+02, 2.94242763e+02, 7.50508700e+01,\n",
              "       2.88894418e+02, 2.42389283e+02, 4.85607138e+02, 5.26884231e+02,\n",
              "       1.89259641e+01, 2.00212311e+02, 1.67633015e+02, 5.45951063e+02,\n",
              "       3.64800018e+02, 2.53485207e+02, 3.80946146e+02, 3.42198073e+02,\n",
              "       5.13606011e+02, 8.50742459e+01, 1.84352962e+02, 1.99869369e+02,\n",
              "       1.36382796e+02, 2.62276478e+02, 2.98345710e+02, 4.43838302e+02,\n",
              "       1.90430773e+02, 5.18236024e+02, 1.68014155e+02, 2.35393205e+01,\n",
              "       4.11676817e+02, 2.80881275e+02, 2.84915752e+02, 2.46297291e+01,\n",
              "       9.70675559e+01, 5.83244859e+02, 2.12911670e+02, 1.57917090e+02,\n",
              "       2.48086041e+02, 4.95923610e+02, 2.62960493e+02, 2.01093794e+02,\n",
              "       4.23240918e+02, 6.01574425e+02, 3.24426056e+02, 5.58810404e+02,\n",
              "       3.22850250e+02, 1.17040053e+02, 3.43640414e+02, 7.65082914e+01,\n",
              "       5.71740609e+02, 2.76796319e+02, 2.17509678e+02, 2.51830300e+01,\n",
              "       8.99313445e+01, 5.31494179e+02, 4.71024568e+02, 2.49340028e+02,\n",
              "       2.77848646e+02, 6.95181196e+01, 8.81821669e+01, 3.74435264e+02,\n",
              "       4.42817293e+02, 8.13972076e+01, 5.42826264e+02, 8.68793528e+01,\n",
              "       5.57308965e+02, 1.51071619e+02, 3.10890396e+01, 3.54247264e+01,\n",
              "       1.73689349e+01, 4.08849434e+02, 5.00212975e+02, 5.68730502e+02,\n",
              "       1.98585856e+02, 2.11444097e+02, 2.76863258e+02, 5.27285600e+02,\n",
              "       3.69340348e+02, 4.42736676e+02, 5.23649176e+02, 6.70353986e+01,\n",
              "       5.97601941e+02, 1.43080356e+02, 8.85160447e+01, 1.11176719e+01,\n",
              "       5.04318056e+02, 5.39864125e+01, 5.70021275e+02, 1.07124239e+02,\n",
              "       3.68723951e+02, 5.79847235e+02, 7.65840637e+00, 2.58898860e+02,\n",
              "       4.71046780e+02, 1.47277575e+02, 5.49335228e+02, 5.67002985e+02,\n",
              "       4.93730563e+01, 4.63372592e+02, 6.26341768e+02, 4.62043910e+02,\n",
              "       3.95048401e+02, 3.15171826e+02, 3.73117520e+02, 4.91292318e+01,\n",
              "       3.40211535e+02, 4.84747406e+01, 4.09480938e+02, 1.10074892e+02,\n",
              "       5.18620588e+02, 3.38270949e+02, 5.30800452e+02, 3.35773276e+02,\n",
              "       5.13757612e+02, 6.74341814e+02, 1.38777889e+02, 4.44123070e+02,\n",
              "       3.68767044e+01, 4.11757472e+02, 4.58251401e+02, 5.65179315e+02,\n",
              "       2.50071839e+02, 1.62168454e+02, 4.42782172e+02, 8.68188816e+00,\n",
              "       5.98185729e+02, 5.53608592e+02, 5.14437760e+02, 5.07050063e+02,\n",
              "       4.92101077e+02, 6.13038150e+02, 6.80304502e+02, 6.83584619e+02,\n",
              "       1.96116073e+02, 1.80237737e+02, 2.53661370e+01, 1.33035931e+01,\n",
              "       2.37802971e+02, 6.22560575e+02, 4.27480855e+02, 1.67802558e+01,\n",
              "       6.81338993e+02, 6.81646465e+02, 3.32119137e+02, 1.01951802e+01,\n",
              "       6.63739312e+02, 4.54192094e+02, 5.71625117e+02, 1.20619196e+00,\n",
              "       3.82601717e+02, 4.92365821e+02, 2.97130239e+02, 5.44441555e+02,\n",
              "       1.60600203e+02, 6.57053339e+02, 5.57338359e+02, 4.65356717e+02,\n",
              "       2.46732373e+02, 5.46101957e+02, 2.30337047e+02, 5.46598025e+02,\n",
              "       5.99982654e+02, 7.35132114e+01, 3.63413060e+02, 2.57511835e+02,\n",
              "       2.80421191e+02, 4.58540629e+02, 3.36716845e+02, 4.93674689e+02,\n",
              "       6.33942213e+02, 7.30190743e+02, 3.50175278e+02, 2.08179994e+02,\n",
              "       8.87247815e+01, 2.41969353e+02, 6.62682469e+02, 1.79522770e+02,\n",
              "       1.02813708e+01, 4.01329876e+02, 6.71557871e+02, 4.78009643e+02,\n",
              "       6.60792882e+02, 6.98761961e+01, 5.76457389e+01, 3.07038331e+02,\n",
              "       6.42335217e+02, 7.02393435e+02, 7.37588246e+02, 5.35656042e+02,\n",
              "       1.47813259e+02, 4.56895625e+01, 6.26932220e+02, 5.56093532e+02,\n",
              "       1.92681182e+02, 4.83452870e+02, 7.11402501e+02, 1.37258202e+02,\n",
              "       1.64539791e+02, 4.07352299e+02, 3.27892796e+02, 5.50719936e+02,\n",
              "       3.84943636e+02, 5.87838159e+02, 5.27168431e+02, 3.24723743e+02,\n",
              "       4.61337056e+02, 5.05311246e+01, 7.19070924e+02, 3.03850838e+02,\n",
              "       5.97368582e+01, 4.69486032e+02, 4.20961151e+02, 2.58393270e+02,\n",
              "       3.10727792e+02, 3.53395019e+02, 1.82680653e+01, 1.60544861e+02,\n",
              "       6.16792112e+02, 6.26929145e+02, 5.80861719e+02, 5.31714686e+02,\n",
              "       2.10203342e+02, 1.38331008e+02, 7.63376488e+02, 6.15547031e+00,\n",
              "       4.19647341e+02, 5.26965492e+02, 7.64759461e+02, 7.08348189e+01,\n",
              "       4.51835583e+02, 7.61505967e+02, 5.09539991e+02, 3.66906602e+01,\n",
              "       6.12312574e+02, 1.96400370e+01, 6.00840850e+01, 5.14664899e+02,\n",
              "       4.09986974e+02, 4.70530326e+02, 3.36379830e+02, 8.37686390e+01,\n",
              "       4.75154706e+02, 1.28221347e+02, 6.70745185e+02, 2.65854479e+02,\n",
              "       7.25287330e+02, 7.84866641e+02, 6.27274650e+02, 1.06738109e+02,\n",
              "       2.70772637e+02, 5.98106071e+02, 1.70915380e+02, 3.16747928e+02,\n",
              "       1.09893779e+02, 6.57016197e+02, 5.81390425e+02, 2.18714588e+02,\n",
              "       7.23827752e+02, 9.62601131e+01, 6.86857299e+02, 2.54885452e+02,\n",
              "       8.22304108e+02, 6.64725629e+02, 1.19756061e+02, 8.23979701e+02,\n",
              "       3.29418267e+02, 8.08802991e+02, 7.86060288e+02, 7.95556506e+01,\n",
              "       6.34971039e+02, 5.10350846e+02, 2.61824914e+02, 7.12385843e+02,\n",
              "       4.07852612e+02, 7.47549770e+02, 1.94850185e+02, 1.51761505e+02,\n",
              "       2.86001698e+02, 2.31727698e+02, 7.29097013e+02, 7.05182580e+02,\n",
              "       5.46385842e+02, 1.15178714e+02, 4.99956048e+02, 3.99036590e+02,\n",
              "       4.22164973e+01, 6.92168738e+02, 5.45157660e+02, 4.62991765e+02,\n",
              "       3.86334094e+01, 3.95578624e+02, 5.43142241e+02, 5.75923092e+02,\n",
              "       7.99611288e+01, 2.19153351e+02, 1.87233825e+02, 5.65036778e+02,\n",
              "       4.70003642e+02, 4.91873688e+02, 6.24023993e+02, 8.61105808e+02,\n",
              "       7.86438945e+02, 2.68801546e+02, 6.89904939e+02, 4.93884411e+02,\n",
              "       5.48488213e+02, 3.60568679e+02, 2.01473797e+02, 2.42193093e+02,\n",
              "       1.86566815e+02, 2.51872425e+02, 5.93569653e+02, 7.29535669e+02,\n",
              "       2.87246453e+02, 2.45698148e+02, 2.45779744e+02, 7.45107480e+02,\n",
              "       1.59412763e+02, 3.26000322e+02, 4.35102189e+01, 8.03651234e+02,\n",
              "       3.31707843e+02, 4.89164450e+02, 8.99245510e+01, 5.26354453e+02,\n",
              "       5.10614833e+02, 8.18638653e+01, 1.08531288e+02, 7.84499568e+02,\n",
              "       8.28309792e+02, 4.78375791e+02, 2.24128651e+02, 8.28860305e+02,\n",
              "       5.23999579e+02, 5.20157661e+02, 2.83687342e+02, 1.57249107e+02,\n",
              "       5.23270564e+02, 6.68452141e+02, 4.73235315e+02, 7.91019473e+02,\n",
              "       8.64313953e+02, 2.14923255e+02, 7.00010984e+02, 5.93696483e+02,\n",
              "       4.03003190e+02, 5.15711426e+02, 9.32552159e+01, 6.65831533e+02,\n",
              "       3.11766938e+02, 8.07750427e+02, 8.56728622e+02, 4.01865472e+02,\n",
              "       7.36570354e+02, 1.59458809e+01, 7.97521069e+02, 4.80781916e+02,\n",
              "       4.14729986e+01, 6.43931104e+02, 8.60482315e+02, 3.96638946e+02,\n",
              "       8.86956662e+02, 3.38032073e+02, 6.49002345e+01, 5.13761083e+02,\n",
              "       6.74859644e+02, 2.19614760e+02, 8.54719929e+02, 5.16939824e+02,\n",
              "       5.60935097e+02, 2.06638437e+02, 3.34101818e+01, 4.81479410e+02,\n",
              "       1.76157954e+02, 4.53047838e+01, 3.21709026e+02, 1.72879602e+02,\n",
              "       5.46857782e+02, 5.73390806e+02, 5.50514746e+02, 1.95598738e+02,\n",
              "       1.22571175e+02, 5.66413002e+02, 4.63682701e+02, 1.66594518e+02,\n",
              "       6.87937781e+02, 3.54403185e+02, 1.43891694e+02, 1.70053149e+02,\n",
              "       7.04183203e+02, 6.67686482e+01, 8.88220615e+02, 6.43286439e+02,\n",
              "       2.83996294e+02, 1.25363683e+02, 9.47708783e+02, 5.32610543e+02,\n",
              "       6.59875717e+02, 2.33621528e+02, 8.03955155e+02, 4.66071154e+02,\n",
              "       7.15078140e+02, 1.15486697e+02, 5.28329818e+02, 5.15726575e+02,\n",
              "       4.54143635e+02, 9.60222695e+02, 1.53611927e+02, 9.58374032e+02,\n",
              "       3.34057952e+02, 6.49140274e+02, 6.85419962e+02, 7.44172395e+02,\n",
              "       8.22219583e+02, 7.40395166e+02, 6.29392153e+02, 9.79976825e+02,\n",
              "       1.46836751e+02, 6.47143463e+02, 8.17814296e+02, 1.31895299e+00,\n",
              "       9.44972525e+02, 4.12676302e+02, 9.12071003e+01, 3.04186648e+02,\n",
              "       9.40960385e+02, 7.31223594e+02, 4.29925615e+02, 7.29447721e+02,\n",
              "       9.75113704e+02, 8.01295706e+02, 7.96528577e+02, 4.46851494e+02,\n",
              "       4.59722802e+02, 5.23432543e+02, 1.22680641e+02, 8.17888493e+01])"
            ]
          },
          "metadata": {
            "tags": []
          },
          "execution_count": 11
        }
      ]
    },
    {
      "cell_type": "markdown",
      "metadata": {
        "id": "lZ_PlwU0XvQb",
        "colab_type": "text"
      },
      "source": [
        "We now have sales prices for 1000 items currently for sale at BuyStuff. Now create an RDD called `price_items` using the newly created data with 10 slices. After you create it, use one of the basic actions to see what's in the RDD."
      ]
    },
    {
      "cell_type": "code",
      "metadata": {
        "id": "Ui2tqUb4XvQc",
        "colab_type": "code",
        "colab": {
          "base_uri": "https://localhost:8080/",
          "height": 102
        },
        "outputId": "6df0de46-ac71-464b-887e-6409dfbab06c"
      },
      "source": [
        "price_items = sc.parallelize(sales_figures, 10)\n",
        "price_items.take(5)"
      ],
      "execution_count": 12,
      "outputs": [
        {
          "output_type": "execute_result",
          "data": {
            "text/plain": [
              "[0.9051818560168843,\n",
              " 0.49823313466107644,\n",
              " 2.2457911982236687,\n",
              " 3.2301034720241937,\n",
              " 3.8725153015956497]"
            ]
          },
          "metadata": {
            "tags": []
          },
          "execution_count": 12
        }
      ]
    },
    {
      "cell_type": "markdown",
      "metadata": {
        "id": "o5oTpj4bXvQf",
        "colab_type": "text"
      },
      "source": [
        "Now let's perform some operations on this simple dataset. To begin with, create a function that will take into account how much money BuyStuff will receive after sales tax has been applied (assume a sales tax of 8%). To make this happen, create a function called `sales_tax()` that returns the amount of money our company will receive after the sales tax has been applied. The function will have this parameter:\n",
        "\n",
        "* `item`: (float) number to be multiplied by the sales tax.\n",
        "\n",
        "\n",
        "Apply that function to the rdd by using the `.map()` method and assign it to a variable `renenue_minus_tax`"
      ]
    },
    {
      "cell_type": "code",
      "metadata": {
        "id": "RJk4qenWXvQg",
        "colab_type": "code",
        "colab": {}
      },
      "source": [
        "def sales_tax(num):\n",
        "    return num*.92\n",
        "\n",
        "revenue_minus_tax = price_items.map(sales_tax)"
      ],
      "execution_count": 13,
      "outputs": []
    },
    {
      "cell_type": "markdown",
      "metadata": {
        "id": "vVs813RDXvQk",
        "colab_type": "text"
      },
      "source": [
        "Remember, Spark has __lazy evaluation__, which means that the `sales_tax()` function is a transformer that is not executed until you call an action. Use one of the collection methods to execute the transformer now a part of the RDD and observe the contents of the `revenue_minus_tax` rdd."
      ]
    },
    {
      "cell_type": "code",
      "metadata": {
        "scrolled": true,
        "id": "401huqacXvQl",
        "colab_type": "code",
        "colab": {
          "base_uri": "https://localhost:8080/",
          "height": 102
        },
        "outputId": "39d34527-7da7-4740-b813-49154ca23329"
      },
      "source": [
        "# perform action to retrieve rdd values\n",
        "revenue_minus_tax.take(5)"
      ],
      "execution_count": 14,
      "outputs": [
        {
          "output_type": "execute_result",
          "data": {
            "text/plain": [
              "[0.8327673075355335,\n",
              " 0.45837448388819035,\n",
              " 2.0661279023657753,\n",
              " 2.9716951942622583,\n",
              " 3.562714077467998]"
            ]
          },
          "metadata": {
            "tags": []
          },
          "execution_count": 14
        }
      ]
    },
    {
      "cell_type": "markdown",
      "metadata": {
        "id": "cBbiVhGlXvQo",
        "colab_type": "text"
      },
      "source": [
        "### Lambda Functions\n",
        "\n",
        "Note that you can also use lambda functions if you want to quickly perform simple operations on data without creating a function. Let's assume that BuyStuff has also decided to offer a 10% discount on all of their items on the pre-tax amounts of each item. Use a lambda function within a `.map()` method to apply the additional 10% loss in revenue for BuyStuff and assign the transformed RDD to a new RDD called `discounted`."
      ]
    },
    {
      "cell_type": "code",
      "metadata": {
        "id": "dFtzRO87XvQp",
        "colab_type": "code",
        "colab": {}
      },
      "source": [
        "discounted = revenue_minus_tax.map(lambda x: x*.9)"
      ],
      "execution_count": 15,
      "outputs": []
    },
    {
      "cell_type": "code",
      "metadata": {
        "scrolled": true,
        "id": "5GwXWOwKXvQr",
        "colab_type": "code",
        "colab": {
          "base_uri": "https://localhost:8080/",
          "height": 187
        },
        "outputId": "9c8175db-dc92-47b5-d0c0-707a4b781197"
      },
      "source": [
        "discounted.take(10)"
      ],
      "execution_count": 16,
      "outputs": [
        {
          "output_type": "execute_result",
          "data": {
            "text/plain": [
              "[0.7494905767819802,\n",
              " 0.4125370354993713,\n",
              " 1.8595151121291977,\n",
              " 2.6745256748360324,\n",
              " 3.206442669721198,\n",
              " 4.734493203202252,\n",
              " 0.3085173796237339,\n",
              " 0.1170450946989963,\n",
              " 1.9377809033316868,\n",
              " 3.4350407959264726]"
            ]
          },
          "metadata": {
            "tags": []
          },
          "execution_count": 16
        }
      ]
    },
    {
      "cell_type": "markdown",
      "metadata": {
        "id": "8X4G0rv4XvQw",
        "colab_type": "text"
      },
      "source": [
        "## Chaining Methods\n",
        "\n",
        "You are also able to chain methods together with Spark. In one line, remove the tax and discount from the revenue of BuyStuff and use a collection method to see the 15 costliest items."
      ]
    },
    {
      "cell_type": "code",
      "metadata": {
        "scrolled": true,
        "id": "oNwqDSykXvQy",
        "colab_type": "code",
        "colab": {
          "base_uri": "https://localhost:8080/",
          "height": 272
        },
        "outputId": "7003630b-7367-4d0c-9122-798e5edd7c07"
      },
      "source": [
        "price_items.map(sales_tax).map(lambda x: x*.9).top(15)"
      ],
      "execution_count": 17,
      "outputs": [
        {
          "output_type": "execute_result",
          "data": {
            "text/plain": [
              "[811.420811356118,\n",
              " 807.394147046679,\n",
              " 795.0643914855065,\n",
              " 793.5336981330913,\n",
              " 784.7028723488852,\n",
              " 782.4372506318019,\n",
              " 779.1151990962869,\n",
              " 735.4466694038238,\n",
              " 734.4001159603257,\n",
              " 715.6519533096357,\n",
              " 712.995608771232,\n",
              " 712.4793570814628,\n",
              " 709.3712989285401,\n",
              " 707.7081013008252,\n",
              " 686.2963329098093]"
            ]
          },
          "metadata": {
            "tags": []
          },
          "execution_count": 17
        }
      ]
    },
    {
      "cell_type": "markdown",
      "metadata": {
        "id": "V0EmX_r_XvQ3",
        "colab_type": "text"
      },
      "source": [
        "## RDD Lineage\n",
        "\n",
        "\n",
        "We are able to see the full lineage of all the operations that have been performed on an RDD by using the `RDD.toDebugString()` method. As your transformations become more complex, you are encouraged to call this method to get a better understanding of the dependencies between RDDs. Try calling it on the `discounted` RDD to see what RDDs it is dependent on."
      ]
    },
    {
      "cell_type": "code",
      "metadata": {
        "id": "1PzqauwdXvQ3",
        "colab_type": "code",
        "colab": {
          "base_uri": "https://localhost:8080/",
          "height": 34
        },
        "outputId": "e686d8af-d029-458d-f567-41c5d7e50be3"
      },
      "source": [
        "discounted.toDebugString()"
      ],
      "execution_count": 18,
      "outputs": [
        {
          "output_type": "execute_result",
          "data": {
            "text/plain": [
              "b'(10) PythonRDD[10] at RDD at PythonRDD.scala:53 []\\n |   ParallelCollectionRDD[5] at parallelize at PythonRDD.scala:195 []'"
            ]
          },
          "metadata": {
            "tags": []
          },
          "execution_count": 18
        }
      ]
    },
    {
      "cell_type": "markdown",
      "metadata": {
        "id": "pCqfpPhpXvQ6",
        "colab_type": "text"
      },
      "source": [
        "### Map vs. Flatmap\n",
        "\n",
        "Depending on how you want your data to be outputted, you might want to use `.flatMap()` rather than a simple `.map()`. Let's take a look at how it performs operations versus the standard map. Let's say we wanted to maintain the original amount BuyStuff receives for each item as well as the new amount after the tax and discount are applied. Create a map function that will return a tuple with (original price, post-discount price)."
      ]
    },
    {
      "cell_type": "code",
      "metadata": {
        "id": "hoKZ5DCJXvQ6",
        "colab_type": "code",
        "colab": {
          "base_uri": "https://localhost:8080/",
          "height": 71
        },
        "outputId": "c7e714c1-f8fd-4a49-f8b0-13fc54df3272"
      },
      "source": [
        "mapped = price_items.map(lambda x: (x, x*0.92 *0.9))\n",
        "print(mapped.count())\n",
        "print(mapped.take(10))"
      ],
      "execution_count": 19,
      "outputs": [
        {
          "output_type": "stream",
          "text": [
            "1000\n",
            "[(0.9051818560168843, 0.7494905767819802), (0.49823313466107644, 0.4125370354993713), (2.2457911982236687, 1.8595151121291977), (3.2301034720241937, 2.6745256748360324), (3.8725153015956497, 3.206442669721198), (5.717986960389193, 4.734493203202252), (0.3726055309465385, 0.3085173796237339), (0.14135881002294237, 0.1170450946989963), (2.3403151006421337, 1.9377809033316868), (4.14859999508028, 3.4350407959264726)]\n"
          ],
          "name": "stdout"
        }
      ]
    },
    {
      "cell_type": "markdown",
      "metadata": {
        "id": "Ug06IuxUXvQ9",
        "colab_type": "text"
      },
      "source": [
        "Note that we have 1000 tuples created to our specification. Let's take a look at how `.flatMap()` differs in its implementation. Use the `.flatMap()` method with the same function you created above."
      ]
    },
    {
      "cell_type": "code",
      "metadata": {
        "id": "23oz02KkXvQ9",
        "colab_type": "code",
        "colab": {
          "base_uri": "https://localhost:8080/",
          "height": 71
        },
        "outputId": "89cb1ec8-a03e-42c6-c4ba-9fddbec2a10f"
      },
      "source": [
        "flat_mapped = price_items.flatMap(lambda x: (x, x*0.92 *0.9))\n",
        "print(flat_mapped.count())\n",
        "print(flat_mapped.take(10))"
      ],
      "execution_count": 20,
      "outputs": [
        {
          "output_type": "stream",
          "text": [
            "2000\n",
            "[0.9051818560168843, 0.7494905767819802, 0.49823313466107644, 0.4125370354993713, 2.2457911982236687, 1.8595151121291977, 3.2301034720241937, 2.6745256748360324, 3.8725153015956497, 3.206442669721198]\n"
          ],
          "name": "stdout"
        }
      ]
    },
    {
      "cell_type": "markdown",
      "metadata": {
        "id": "46pYDFdFXvRA",
        "colab_type": "text"
      },
      "source": [
        "Rather than being represented by tuples, all of the  values are now on the same level. When we are trying to combine different items together, it is sometimes necessary to use `.flatMap()` rather than `.map()` in order to properly reduce to our specifications. This is not one of those instances, but in the upcoming lab, you just might have to use it."
      ]
    },
    {
      "cell_type": "markdown",
      "metadata": {
        "id": "vu9QZTBrXvRA",
        "colab_type": "text"
      },
      "source": [
        "## Filter\n",
        "After meeting with some external consultants, BuyStuff has determined that its business will be more profitable if it focuses on higher ticket items. Now, use the `.filter()` method to select items that bring in more than $300 after tax and discount have been removed. A filter method is a specialized form of a map function that only returns the items that match a certain criterion. In the cell below:\n",
        "* use a lambda function within a `.filter()` method to meet the consultant's suggestion's specifications. set `RDD = selected_items`\n",
        "* calculate the total number of items remaining in BuyStuff's inventory"
      ]
    },
    {
      "cell_type": "code",
      "metadata": {
        "id": "-GuQRKK5XvRB",
        "colab_type": "code",
        "colab": {
          "base_uri": "https://localhost:8080/",
          "height": 34
        },
        "outputId": "b21a5089-6e2e-44cb-f344-6544c3a9d018"
      },
      "source": [
        "# use the filter function\n",
        "selected_items = discounted.filter(lambda x: x > 300)\n",
        "\n",
        "# calculate total remaining in inventory \n",
        "selected_items.count()"
      ],
      "execution_count": 21,
      "outputs": [
        {
          "output_type": "execute_result",
          "data": {
            "text/plain": [
              "283"
            ]
          },
          "metadata": {
            "tags": []
          },
          "execution_count": 21
        }
      ]
    },
    {
      "cell_type": "markdown",
      "metadata": {
        "id": "dGL8QnTZXvRG",
        "colab_type": "text"
      },
      "source": [
        "## Reduce\n",
        "\n",
        "Reduce functions are where you are in some way combing all of the variables that you have mapped out. Here is an example of how a reduce function works when the task is to sum all values:\n",
        "\n",
        "<img src = \"./images/reduce_function.png\" width = \"600\">  \n",
        "\n",
        "\n",
        "As you can see, the operation is performed within each partition first, after which, the results of the computations in each partition are combined to come up with one final answer.  \n",
        "\n",
        "Now it's time to figure out how much money BuyStuff would make from selling one of all of its items after they've reduced their inventory. Use the `.reduce()` method with a lambda function to add up all of the values in the RDD. Your lambda function should have two variables. "
      ]
    },
    {
      "cell_type": "code",
      "metadata": {
        "id": "8lLYnx70XvRH",
        "colab_type": "code",
        "colab": {
          "base_uri": "https://localhost:8080/",
          "height": 34
        },
        "outputId": "9905a95e-6466-4193-a2b3-44280e08d5d1"
      },
      "source": [
        "selected_items.reduce(lambda x, y: x + y)"
      ],
      "execution_count": 22,
      "outputs": [
        {
          "output_type": "execute_result",
          "data": {
            "text/plain": [
              "132967.2094678756"
            ]
          },
          "metadata": {
            "tags": []
          },
          "execution_count": 22
        }
      ]
    },
    {
      "cell_type": "markdown",
      "metadata": {
        "id": "FgknYRngXvRP",
        "colab_type": "text"
      },
      "source": [
        "The time has come for BuyStuff to open up shop and start selling its goods. It only has one of each item, but it's allowing 50 lucky users to buy as many items as they want while they remain in stock. Within seconds, BuyStuff is sold out. Below, you'll find the sales data in an RDD with tuples of (user, item bought)."
      ]
    },
    {
      "cell_type": "code",
      "metadata": {
        "id": "cPTq9PouXvRQ",
        "colab_type": "code",
        "colab": {
          "base_uri": "https://localhost:8080/",
          "height": 136
        },
        "outputId": "d921aa9e-565c-454f-9d3f-3161fde5110a"
      },
      "source": [
        "import random\n",
        "random.seed(42)\n",
        "# generating simulated users that have bought each item\n",
        "sales_data = selected_items.map(lambda x: (random.randint(1, 50), x))\n",
        "\n",
        "sales_data.take(7)"
      ],
      "execution_count": 23,
      "outputs": [
        {
          "output_type": "execute_result",
          "data": {
            "text/plain": [
              "[(3, 319.08468284204645),\n",
              " (3, 332.33136181855286),\n",
              " (45, 345.7049120534622),\n",
              " (5, 325.23139807669384),\n",
              " (25, 355.43229513004013),\n",
              " (21, 305.76644080342857),\n",
              " (26, 301.89665027692314)]"
            ]
          },
          "metadata": {
            "tags": []
          },
          "execution_count": 23
        }
      ]
    },
    {
      "cell_type": "markdown",
      "metadata": {
        "id": "O8RVcvapXvRZ",
        "colab_type": "text"
      },
      "source": [
        "It's time to determine some basic statistics about BuyStuff users.\n",
        "\n",
        "Let's start off by creating an RDD that determines how much each user spent in total.\n",
        "To do this we can use a method called `.reduceByKey()` to perform reducing operations while grouping by keys. After you have calculated the total, use the `.sortBy()` method on the RDD to rank the users from the highest spending to the least spending. "
      ]
    },
    {
      "cell_type": "code",
      "metadata": {
        "id": "lIqWQqtHXvRa",
        "colab_type": "code",
        "colab": {
          "base_uri": "https://localhost:8080/",
          "height": 187
        },
        "outputId": "27adb9e7-1290-4446-c2c8-6128d8fded67"
      },
      "source": [
        "# calculate how much each user spent\n",
        "total_spent = sales_data.reduceByKey(lambda x, y: x+y)\n",
        "total_spent.take(10)"
      ],
      "execution_count": 24,
      "outputs": [
        {
          "output_type": "execute_result",
          "data": {
            "text/plain": [
              "[(20, 1749.8991528079002),\n",
              " (30, 1860.4352291462105),\n",
              " (40, 1519.9343124413836),\n",
              " (10, 747.6502496175578),\n",
              " (50, 1140.1908091510327),\n",
              " (21, 3147.692150659921),\n",
              " (11, 1720.8591085063465),\n",
              " (41, 5530.551727296548),\n",
              " (1, 1886.7124644122694),\n",
              " (31, 2658.822761264671)]"
            ]
          },
          "metadata": {
            "tags": []
          },
          "execution_count": 24
        }
      ]
    },
    {
      "cell_type": "code",
      "metadata": {
        "id": "PP2hP1qFXvRd",
        "colab_type": "code",
        "colab": {
          "base_uri": "https://localhost:8080/",
          "height": 867
        },
        "outputId": "ce8d2c8a-2bf0-441d-9f36-cbf5347c9523"
      },
      "source": [
        "# sort the users from highest to lowest spenders\n",
        "total_spent.sortBy(lambda x: x[1], ascending=False).collect()"
      ],
      "execution_count": 25,
      "outputs": [
        {
          "output_type": "execute_result",
          "data": {
            "text/plain": [
              "[(42, 5863.905304820172),\n",
              " (41, 5530.551727296548),\n",
              " (18, 5345.575583482536),\n",
              " (44, 5317.971304055646),\n",
              " (3, 5247.657377060058),\n",
              " (17, 4625.55459195365),\n",
              " (13, 4323.797099563855),\n",
              " (27, 4275.552563070043),\n",
              " (45, 4163.407677461436),\n",
              " (7, 3701.678250494731),\n",
              " (22, 3669.345575855048),\n",
              " (2, 3445.8859283658658),\n",
              " (23, 3411.1049856442464),\n",
              " (39, 3398.0676150680783),\n",
              " (21, 3147.692150659921),\n",
              " (19, 3056.6017425972304),\n",
              " (25, 2958.8792079512696),\n",
              " (8, 2845.164347052575),\n",
              " (34, 2813.793552912673),\n",
              " (9, 2721.06235244923),\n",
              " (38, 2688.5111387348766),\n",
              " (31, 2658.822761264671),\n",
              " (12, 2642.4372152534997),\n",
              " (36, 2594.406765781414),\n",
              " (26, 2504.009276733129),\n",
              " (33, 2371.4683636907084),\n",
              " (47, 2335.6125971101606),\n",
              " (46, 2249.381505998731),\n",
              " (37, 2175.4508983209353),\n",
              " (16, 2104.5616124629582),\n",
              " (15, 2034.4932656091887),\n",
              " (35, 2003.2042236726938),\n",
              " (1, 1886.7124644122694),\n",
              " (30, 1860.4352291462105),\n",
              " (48, 1852.9884112060995),\n",
              " (28, 1797.7384084965743),\n",
              " (20, 1749.8991528079002),\n",
              " (11, 1720.8591085063465),\n",
              " (6, 1648.4627089515952),\n",
              " (40, 1519.9343124413836),\n",
              " (4, 1447.3957247315577),\n",
              " (5, 1390.1505065728488),\n",
              " (32, 1382.4958877409083),\n",
              " (50, 1140.1908091510327),\n",
              " (29, 1131.5418241165225),\n",
              " (49, 988.8188214013136),\n",
              " (43, 922.0616359988792),\n",
              " (24, 811.6086289460744),\n",
              " (10, 747.6502496175578),\n",
              " (14, 742.6570211827593)]"
            ]
          },
          "metadata": {
            "tags": []
          },
          "execution_count": 25
        }
      ]
    },
    {
      "cell_type": "markdown",
      "metadata": {
        "id": "AVQ0_susXvRf",
        "colab_type": "text"
      },
      "source": [
        "Next, let's determine how many items were bought per user. This can be solved in one line using an RDD method. After you've counted the total number of items bought per person, sort the users from most number of items bought to least number of items. Time to start a customer loyalty program!"
      ]
    },
    {
      "cell_type": "code",
      "metadata": {
        "id": "Mm3WjYNqXvRg",
        "colab_type": "code",
        "colab": {
          "base_uri": "https://localhost:8080/",
          "height": 867
        },
        "outputId": "ebe21519-42cf-4d4f-8967-c765a1b38c23"
      },
      "source": [
        "total_items = sales_data.countByKey()\n",
        "sorted(total_items.items(),key=lambda x:x[1], reverse=True)"
      ],
      "execution_count": 26,
      "outputs": [
        {
          "output_type": "execute_result",
          "data": {
            "text/plain": [
              "[(27, 12),\n",
              " (6, 12),\n",
              " (19, 11),\n",
              " (41, 10),\n",
              " (25, 10),\n",
              " (9, 10),\n",
              " (43, 10),\n",
              " (44, 9),\n",
              " (26, 9),\n",
              " (12, 9),\n",
              " (23, 8),\n",
              " (18, 8),\n",
              " (39, 8),\n",
              " (7, 7),\n",
              " (46, 7),\n",
              " (42, 7),\n",
              " (1, 7),\n",
              " (31, 6),\n",
              " (3, 6),\n",
              " (21, 6),\n",
              " (33, 6),\n",
              " (47, 6),\n",
              " (32, 6),\n",
              " (30, 6),\n",
              " (36, 6),\n",
              " (2, 5),\n",
              " (40, 5),\n",
              " (8, 5),\n",
              " (20, 5),\n",
              " (37, 4),\n",
              " (16, 4),\n",
              " (4, 4),\n",
              " (38, 4),\n",
              " (48, 4),\n",
              " (17, 4),\n",
              " (10, 4),\n",
              " (14, 4),\n",
              " (50, 3),\n",
              " (34, 3),\n",
              " (45, 3),\n",
              " (24, 3),\n",
              " (22, 2),\n",
              " (11, 2),\n",
              " (5, 2),\n",
              " (49, 2),\n",
              " (28, 2),\n",
              " (15, 2),\n",
              " (13, 2),\n",
              " (35, 2),\n",
              " (29, 1)]"
            ]
          },
          "metadata": {
            "tags": []
          },
          "execution_count": 26
        }
      ]
    },
    {
      "cell_type": "markdown",
      "metadata": {
        "id": "lmqRVihCXvRi",
        "colab_type": "text"
      },
      "source": [
        "### Additional Reading\n",
        "\n",
        "- [The original paper on RDDs](https://cs.stanford.edu/~matei/papers/2012/nsdi_spark.pdf)\n",
        "- [RDDs in Apache Spark](https://data-flair.training/blogs/create-rdds-in-apache-spark/)\n",
        "- [Programming with RDDs](https://runawayhorse001.github.io/LearningApacheSpark/rdd.html)\n",
        "- [RDD Transformations and Actions Summary](https://www.analyticsvidhya.com/blog/2016/10/using-pyspark-to-perform-transformations-and-actions-on-rdd/)"
      ]
    },
    {
      "cell_type": "markdown",
      "metadata": {
        "id": "-UhpGOGqXvRk",
        "colab_type": "text"
      },
      "source": [
        "## Summary\n",
        "\n",
        "In this lab we went through a brief introduction to RDD creation from a Python collection, setting a number of logical partitions for an RDD and extracting lineage. We also used transformations and actions to perform calculations across RDDs on a distributed setup. In the next lab, you'll get the chance to apply these transformations on different books to calculate word counts and various statistics.\n"
      ]
    }
  ]
}